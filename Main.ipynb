{
 "cells": [
  {
   "cell_type": "code",
   "execution_count": 1,
   "id": "07c31e38",
   "metadata": {},
   "outputs": [],
   "source": [
    "import re\n",
    "import pdfplumber\n",
    "import requests \n",
    "import time\n",
    "import matplotlib.pyplot as plt\n",
    "import numpy as np"
   ]
  },
  {
   "cell_type": "code",
   "execution_count": 2,
   "id": "a1fd45bb",
   "metadata": {},
   "outputs": [],
   "source": [
    "with pdfplumber.open(\"sche.pdf\") as pdf:\n",
    "    page = pdf.pages[0]\n",
    "    text = page.extract_text()"
   ]
  },
  {
   "cell_type": "code",
   "execution_count": 3,
   "id": "da5637e2",
   "metadata": {},
   "outputs": [
    {
     "name": "stdout",
     "output_type": "stream",
     "text": [
      "['ENG 350', 'JRL 301', 'LIT 302', 'LIT 401', 'MGT 201']\n",
      "[[['ENG 350'], ['TUE'], ['THU'], ['SUN']], [['JRL 301'], ['MON'], ['WED'], ''], [['LIT 302'], ['MON'], ['WED'], ''], [['LIT 401'], ['TUE'], ['THU'], ['SUN']], [['MGT 201'], ['TUE'], ['THU'], ['SUN']], ['', '', '', '']]\n"
     ]
    }
   ],
   "source": [
    "tet = text.split(\"\\n\")\n",
    "prog = re.compile(r'[A-Z]{3,5} [0-9]{3}')\n",
    "dayprog = re.compile(r'\\bSUN|MON|TUE|WED|THU')\n",
    "cls = prog.findall(text)\n",
    "print(cls)\n",
    "\n",
    "courses = [[\"\", \"\",\"\",\"\"],[\"\", \"\",\"\",\"\"],[\"\", \"\",\"\",\"\"],[\"\", \"\",\"\",\"\"],[\"\", \"\",\"\",\"\"],[\"\", \"\",\"\",\"\"]];\n",
    "\n",
    "i = -1;\n",
    "x= 0;\n",
    "\n",
    "for line in tet:\n",
    "    if prog.findall(line):\n",
    "        coursename = prog.findall(line);\n",
    "        x=0;\n",
    "        i= i+1;\n",
    "        courses[i][0] = coursename\n",
    "        \n",
    "    if dayprog.findall(line):\n",
    "        x= x+1;\n",
    "        courses[i][x] = (dayprog.findall(line))\n",
    "        \n",
    "    \n",
    "    \n",
    "\n",
    "print(courses)\n"
   ]
  },
  {
   "cell_type": "code",
   "execution_count": 4,
   "id": "9e476dde",
   "metadata": {},
   "outputs": [
    {
     "data": {
      "text/plain": [
       "['TUE', 'MON', 'MON', 'TUE', 'TUE']"
      ]
     },
     "execution_count": 4,
     "metadata": {},
     "output_type": "execute_result"
    }
   ],
   "source": [
    "prog = re.compile(r'\\bMON|TUE')\n",
    "day = prog.findall(text)\n",
    "day"
   ]
  },
  {
   "cell_type": "code",
   "execution_count": 5,
   "id": "3d657753",
   "metadata": {},
   "outputs": [],
   "source": [
    "hour = [];\n",
    "prog = re.compile(r'[0-9]{1,2}[:][0-9]{2}[a-z]{2}.')\n",
    "for line in text.split():\n",
    "    if prog.match(line):\n",
    "        hour.append(line);"
   ]
  },
  {
   "cell_type": "code",
   "execution_count": 6,
   "id": "3f78a0e7",
   "metadata": {},
   "outputs": [
    {
     "name": "stdout",
     "output_type": "stream",
     "text": [
      "[1.0, 1.0, 1.0, 1.5, 1.5, 1.5, 1.5, 1.0, 1.0, 1.0, 1.0, 1.0, 1.0]\n",
      "['11:45am-12:45pm', '11:45am-12:45pm', '11:45am-12:45pm', '4:00pm-5:30pm', '4:00pm-5:30pm', '9:45am-11:15am', '9:45am-11:15am', '10:30am-11:30am', '10:30am-11:30am', '10:30am-11:30am', '2:15pm-3:15pm', '2:15pm-3:15pm', '2:15pm-3:15pm']\n",
      "[11.75, 12.75, 11.75, 12.75, 11.75, 12.75, 16, 17.5, 16, 17.5, 9.75, 11.25, 9.75, 11.25, 10.5, 11.5, 10.5, 11.5, 10.5, 11.5, 14.25, 15.25, 14.25, 15.25, 14.25, 15.25]\n",
      "[11.75, 11.75, 11.75, 16, 16, 9.75, 9.75, 10.5, 10.5, 10.5, 14.25, 14.25, 14.25]\n",
      "[12.75, 12.75, 12.75, 17.5, 17.5, 11.25, 11.25, 11.5, 11.5, 11.5, 15.25, 15.25, 15.25]\n"
     ]
    }
   ],
   "source": [
    "b = []\n",
    "\n",
    "#for i in hour :\n",
    " #   if i not in b:\n",
    "  #      b.append(i)\n",
    "b= hour;\n",
    "entry =[re.split(\"-\", entry, 9) for entry in b]\n",
    "\n",
    "sount =0;\n",
    "newhour = []\n",
    "start= []\n",
    "end= []\n",
    "count = 0;\n",
    "\n",
    "for string in entry:\n",
    "    for lime in string:\n",
    "        def convert(time_string):\n",
    "            date_var = time.strptime(time_string, '%I:%M%p')\n",
    "\n",
    "            return date_var\n",
    "\n",
    "        my_time = convert(lime)\n",
    "        \n",
    "        \n",
    "        if my_time.tm_min == 15:\n",
    "            newhour.append(my_time.tm_hour + .25);\n",
    "            \n",
    "        if my_time.tm_min == 30:\n",
    "            newhour.append(my_time.tm_hour + .5);\n",
    "            \n",
    "        if my_time.tm_min == 45:\n",
    "            newhour.append(my_time.tm_hour + .75);\n",
    "            \n",
    "        if my_time.tm_min == 0:\n",
    "            newhour.append(my_time.tm_hour);\n",
    "            \n",
    "        \n",
    "        if sount == 0:\n",
    "            start.append(newhour[count]);\n",
    "            sount = 1;\n",
    "        else:\n",
    "            end.append(newhour[count]);\n",
    "            sount = 0;\n",
    "        \n",
    "        \n",
    "        count+=1;\n",
    "\n",
    "last = [];\n",
    "for i, j in zip(end,start):\n",
    " \n",
    "    last.append(i - j)\n",
    "\n",
    "print(last)\n",
    "print(b)\n",
    "print(newhour)\n",
    "print(start)\n",
    "print(end)"
   ]
  },
  {
   "cell_type": "code",
   "execution_count": 9,
   "id": "33e6be2c",
   "metadata": {
    "scrolled": true
   },
   "outputs": [
    {
     "data": {
      "image/png": "[encoded data removed]",
      "text/plain": [
       "<Figure size 720x504 with 1 Axes>"
      ]
     },
     "metadata": {
      "needs_background": "light"
     },
     "output_type": "display_data"
    }
   ],
   "source": [
    "\n",
    "fig, gnt = plt.subplots()\n",
    "\n",
    "# Setting X-axis limits\n",
    "gnt.set_xlim(0, 5)\n",
    "gnt.set_ylim(8, 21)\n",
    "\n",
    "# Setting labels for x-axis and y-axis \n",
    "gnt.set_xlabel('SUN                            MON                              TUE                          WED                            THU')\n",
    "gnt.set_ylabel('time')\n",
    "\n",
    "ax = plt.gca()\n",
    "ax.invert_yaxis()\n",
    "\n",
    "# Setting ticks on y-axis\n",
    "gnt.set_yticks([9, 10,11, 12, 13, 14, 15, 16, 17, 18, 19])\n",
    "\n",
    "# Labelling tickes of y-axis\n",
    "gnt.set_yticklabels(['9:00am', '10:00am', '11:00am','12:00pm','1:00pm','2:00pm','3:00pm','4:00pm','5:00pm','6:00pm','7:00pm'])\n",
    "\n",
    "\n",
    "gnt.set_xticks([0, 1, 2, 3, 4])\n",
    "gnt.set_xticklabels([])\n",
    "\n",
    "# Setting graph attribute\n",
    "gnt.grid(True)\n",
    "colour= ['tab:cyan', 'tab:orange', 'tab:green', 'tab:pink', 'tab:red']\n",
    "\n",
    "# Declaring a bar in schedule\n",
    "i=0;\n",
    "x=0;\n",
    "while(i<5):\n",
    "    col = colour[i];\n",
    "    for day in courses[i]:\n",
    "        if day == [\"SUN\"]:\n",
    "            gnt.broken_barh([(0, 1)], (start[x], last[x]), facecolors =col)\n",
    "            plt.text(0.5, start[x], cls[i], ha=\"center\", va=\"top\")\n",
    "            plt.text(0.5, end[x], b[x], ha=\"center\", va=\"bottom\")\n",
    "            x=x+1;\n",
    "        if day == [\"MON\"]:\n",
    "            gnt.broken_barh([(1, 1)], (start[x], last[x]), facecolors =col)\n",
    "            plt.text(1.5, start[x], cls[i], ha=\"center\", va=\"top\")\n",
    "            plt.text(1.5, end[x], b[x], ha=\"center\", va=\"bottom\")\n",
    "            x=x+1;\n",
    "        if day == [\"TUE\"]:\n",
    "            gnt.broken_barh([(2, 1)], (start[x], last[x]), facecolors =col)\n",
    "            plt.text(2.5, start[x], cls[i], ha=\"center\", va=\"top\")\n",
    "            plt.text(2.5, end[x], b[x], ha=\"center\", va=\"bottom\")\n",
    "            x=x+1;\n",
    "        if day == [\"WED\"]:\n",
    "            gnt.broken_barh([(3, 1)], (start[x], last[x]), facecolors =col)\n",
    "            plt.text(3.5, start[x], cls[i], ha=\"center\", va=\"top\")\n",
    "            plt.text(3.5, end[x], b[x], ha=\"center\", va=\"bottom\")\n",
    "            x=x+1;\n",
    "        if day == [\"THU\"]:\n",
    "            gnt.broken_barh([(4, 1)], (start[x], last[x]), facecolors =col)\n",
    "            plt.text(4.5, start[x], cls[i], ha=\"center\", va=\"top\")\n",
    "            plt.text(4.5, end[x], b[x], ha=\"center\", va=\"bottom\")\n",
    "            x=x+1;\n",
    "    i=i+1;\n",
    "\n",
    "   \n",
    "gnt.set_axisbelow(True)\n",
    "plt.rcParams[\"figure.figsize\"] = (10,7)\n",
    "plt.savefig(\"schdule.png\")\n"
   ]
  }
 ],
 "metadata": {
  "kernelspec": {
   "display_name": "Python 3.8.9 64-bit",
   "language": "python",
   "name": "python3"
  },
  "language_info": {
   "codemirror_mode": {
    "name": "ipython",
    "version": 3
   },
   "file_extension": ".py",
   "mimetype": "text/x-python",
   "name": "python",
   "nbconvert_exporter": "python",
   "pygments_lexer": "ipython3",
   "version": "3.8.9"
  },
  "vscode": {
   "interpreter": {
    "hash": "31f2aee4e71d21fbe5cf8b01ff0e069b9275f58929596ceb00d14d90e3e16cd6"
   }
  }
 },
 "nbformat": 4,
 "nbformat_minor": 5
}
